{
  "nbformat": 4,
  "nbformat_minor": 0,
  "metadata": {
    "colab": {
      "name": "In_class_exercise_01.ipynb",
      "provenance": [],
      "collapsed_sections": [],
      "include_colab_link": true
    },
    "kernelspec": {
      "display_name": "Python 3",
      "language": "python",
      "name": "python3"
    },
    "language_info": {
      "codemirror_mode": {
        "name": "ipython",
        "version": 3
      },
      "file_extension": ".py",
      "mimetype": "text/x-python",
      "name": "python",
      "nbconvert_exporter": "python",
      "pygments_lexer": "ipython3",
      "version": "3.8.5"
    }
  },
  "cells": [
    {
      "cell_type": "markdown",
      "metadata": {
        "id": "view-in-github",
        "colab_type": "text"
      },
      "source": [
        "<a href=\"https://colab.research.google.com/github/shivasrinivasaraopinnamaneni/shivasrinivasarao_INFO5731_FALL2021/blob/main/In_class_exercise_01.ipynb\" target=\"_parent\"><img src=\"https://colab.research.google.com/assets/colab-badge.svg\" alt=\"Open In Colab\"/></a>"
      ]
    },
    {
      "cell_type": "markdown",
      "metadata": {
        "id": "DymRJbxDBCnf"
      },
      "source": [
        "# **The first In-class-exercise (09/01/2021, 40 points in total)**"
      ]
    },
    {
      "cell_type": "markdown",
      "metadata": {
        "id": "03jb4GZsBkBS"
      },
      "source": [
        "(1) Write a Python program to calculate the length of a string. (4 points)"
      ]
    },
    {
      "cell_type": "code",
      "metadata": {
        "colab": {
          "base_uri": "https://localhost:8080/"
        },
        "id": "YaGLbSHHB8Ej",
        "outputId": "f2648f04-40c7-482f-8156-322a2be6e81a"
      },
      "source": [
        "def str_len(str):\n",
        "  count=0\n",
        "  for x in str:\n",
        "     count +=1\n",
        "  print(count)\n",
        "str_len(\"siva\")\n",
        "\n"
      ],
      "execution_count": 9,
      "outputs": [
        {
          "output_type": "stream",
          "name": "stdout",
          "text": [
            "4\n"
          ]
        }
      ]
    },
    {
      "cell_type": "markdown",
      "metadata": {
        "id": "jJDe71iLB616"
      },
      "source": [
        "(2) Write a Python program to count the number of characters in a string. (4 points)\n",
        "\n",
        "Sample String : 'google.com‘, \n",
        "\n",
        "Expected Result : {'o': 3, 'g': 2, '.': 1, 'e': 1, 'l': 1, 'm': 1, 'c': 1}"
      ]
    },
    {
      "cell_type": "code",
      "metadata": {
        "colab": {
          "base_uri": "https://localhost:8080/"
        },
        "id": "MtKskTzbCLaU",
        "outputId": "d6d71990-8156-4f56-a6c0-4a99590ff838"
      },
      "source": [
        "x=\"google.com\"\n",
        "s1={}\n",
        "list1=[]\n",
        "for val in x:\n",
        "  count=0\n",
        "  for val2 in x:\n",
        "    if val==val2:\n",
        "      count+=1\n",
        "    s1[val]=count\n",
        "print(s1)\n",
        "\n",
        "  "
      ],
      "execution_count": 63,
      "outputs": [
        {
          "output_type": "stream",
          "name": "stdout",
          "text": [
            "{'g': 2, 'o': 3, 'l': 1, 'e': 1, '.': 1, 'c': 1, 'm': 1}\n"
          ]
        }
      ]
    },
    {
      "cell_type": "markdown",
      "metadata": {
        "id": "55W9AMdXCSpV"
      },
      "source": [
        "(3) Write a Python program to sum all the items in a list. (4 points)"
      ]
    },
    {
      "cell_type": "code",
      "metadata": {
        "colab": {
          "base_uri": "https://localhost:8080/"
        },
        "id": "I57NXsauCec2",
        "outputId": "549db782-3b1b-489b-fb89-387a4a2dceff"
      },
      "source": [
        "list1=[1,2,3,4]\n",
        "sum=0\n",
        "for x in list1:\n",
        "  sum+=x\n",
        "print(sum)\n"
      ],
      "execution_count": 11,
      "outputs": [
        {
          "output_type": "stream",
          "name": "stdout",
          "text": [
            "10\n"
          ]
        }
      ]
    },
    {
      "cell_type": "markdown",
      "metadata": {
        "id": "4ulBZ6yhCi9F"
      },
      "source": [
        "(4) Write a Python program to get a string from a given string where all occurrences of its first char have been changed to '\\$', except the first char itself. (4 points)\n",
        "\n",
        "Sample String : 'restart‘, \n",
        "\n",
        "Expected Result : 'resta\\$t'"
      ]
    },
    {
      "cell_type": "code",
      "metadata": {
        "colab": {
          "base_uri": "https://localhost:8080/"
        },
        "id": "Fj0XhwbBCw2o",
        "outputId": "dd93b950-e3ac-4872-ca49-a5c23d9b651a"
      },
      "source": [
        "def funct1(value):\n",
        "  l1=len(value)\n",
        "  a1=value[0]\n",
        "  value=value.replace(a1,\"$\")\n",
        "  value=a1+value[1:]\n",
        "  return value\n",
        "print(funct1(\"restart\"))\n",
        "  "
      ],
      "execution_count": 54,
      "outputs": [
        {
          "output_type": "stream",
          "name": "stdout",
          "text": [
            "resta$t\n"
          ]
        }
      ]
    },
    {
      "cell_type": "markdown",
      "metadata": {
        "id": "_bIP7s1MCzue"
      },
      "source": [
        "(5) Write a program with python which could accept two parameter a and b to calculate and output the result of S, where \n",
        "\n",
        "$\\ S=3.14*(1+a/b)^3$ (4 points)\n",
        "\n"
      ]
    },
    {
      "cell_type": "code",
      "metadata": {
        "colab": {
          "base_uri": "https://localhost:8080/"
        },
        "id": "w79QilHXD3Mg",
        "outputId": "07993654-eae1-4d0a-bbe8-80372f0042a0"
      },
      "source": [
        "def funct1(a,b):\n",
        " S=3.14*(1+a/b)**3\n",
        " return S\n",
        "print(funct1(3,4))\n",
        "\n"
      ],
      "execution_count": 48,
      "outputs": [
        {
          "output_type": "stream",
          "name": "stdout",
          "text": [
            "16.8284375\n"
          ]
        }
      ]
    },
    {
      "cell_type": "markdown",
      "metadata": {
        "id": "xCa2bK9aD4Q3"
      },
      "source": [
        "(6) Write a Python program to concatenate following dictionaries to create a new one. (4 points)\n",
        "\n",
        "Sample Dictionary : dic1={1:10, 2:20}, dic2={3:30, 4:40}, dic3={5:50,6:60}, \n",
        "\n",
        "Expected Result : {1: 10, 2: 20, 3: 30, 4: 40, 5: 50, 6: 60}\n"
      ]
    },
    {
      "cell_type": "code",
      "metadata": {
        "colab": {
          "base_uri": "https://localhost:8080/"
        },
        "id": "_z4aLqAbEET1",
        "outputId": "418b1748-2df4-438b-e517-aa896d776c83"
      },
      "source": [
        "dic1={1:10, 2:20} \n",
        "dic2={3:30, 4:40}\n",
        "dic3={5:50,6:60}\n",
        "dic1.update(dic2)\n",
        "dic1.update(dic3)\n",
        "print(dic1)"
      ],
      "execution_count": 53,
      "outputs": [
        {
          "output_type": "stream",
          "name": "stdout",
          "text": [
            "{1: 10, 2: 20, 3: 30, 4: 40, 5: 50, 6: 60}\n"
          ]
        }
      ]
    },
    {
      "cell_type": "markdown",
      "metadata": {
        "id": "0v48Vqa7FrQh"
      },
      "source": [
        "(7) Write a Python program to check whether an element exists within a tuple. (4 points)"
      ]
    },
    {
      "cell_type": "code",
      "metadata": {
        "colab": {
          "base_uri": "https://localhost:8080/"
        },
        "id": "7WEmgq-DF2P1",
        "outputId": "2fead521-1b0e-469f-b0bb-38a82790ea7f"
      },
      "source": [
        "tuple1=(\"hi\",1,2,\"siva\")\n",
        "if not tuple1:\n",
        "  print(\"tuple is empty \")\n",
        "else:\n",
        "  print(\"tuple not empty\")\n",
        "\n"
      ],
      "execution_count": 16,
      "outputs": [
        {
          "output_type": "stream",
          "name": "stdout",
          "text": [
            "tuple not empty\n"
          ]
        }
      ]
    },
    {
      "cell_type": "markdown",
      "metadata": {
        "id": "vD5PYLMuGga_"
      },
      "source": [
        "(8) Write a Python program to find maximum and the minimum value in a set. (4 points)"
      ]
    },
    {
      "cell_type": "code",
      "metadata": {
        "colab": {
          "base_uri": "https://localhost:8080/"
        },
        "id": "t0D5kdJUGjjw",
        "outputId": "af8438a1-5b93-4633-fc24-980bf125fce2"
      },
      "source": [
        "set1={1,2,3,4,6,99}\n",
        "print(\"maximum value of set is: \",max(set1))\n",
        "print(\"minimum value of set is: \",min(set1))\n",
        "\n"
      ],
      "execution_count": 14,
      "outputs": [
        {
          "output_type": "stream",
          "name": "stdout",
          "text": [
            "maximum value of set is:  99\n",
            "minimum value of set is:  1\n"
          ]
        }
      ]
    },
    {
      "cell_type": "markdown",
      "metadata": {
        "id": "uHkd-y5VhVWC"
      },
      "source": [
        "(9) Write a Python program to randomly divide the students in this class into six groups for term projects, each group should have at least 4 students but no more than 6 students (including 6). Here is the students list: (4 points)\n",
        "\n",
        "studnet_list = ['vmb0067','pc0353','snd0097','yye0005','sg0940','bk0301','rak0120','rrk0058','spk0057','vl0135','nm0547','pn0159',\n",
        "           'msp0174','dd0420','ds0761','rs0850','ss1995','at0739','at0768','mv0299','tv0119','dy0091','py0080','ttp0037','hc0439','ri0094','pk0339', 'hn0145','mn0426']"
      ]
    },
    {
      "cell_type": "code",
      "metadata": {
        "colab": {
          "base_uri": "https://localhost:8080/"
        },
        "id": "3iGbmcOBhTwy",
        "outputId": "d6700b11-5644-48f5-e5a0-6ba6b37b0e23"
      },
      "source": [
        "studnet_list = ['vmb0067','pc0353','snd0097','yye0005','sg0940','bk0301','rak0120','rrk0058','spk0057','vl0135','nm0547','pn0159', 'msp0174','dd0420','ds0761','rs0850','ss1995','at0739','at0768','mv0299','tv0119','dy0091','py0080','ttp0037','hc0439','ri0094','pk0339', 'hn0145','mn0426']\n",
        "import numpy as np\n",
        "val1=[]\n",
        "def funct1(studnet_list,val):\n",
        "  ser=np.random.shuffle(studnet_list)\n",
        "  for x in range(0,len(studnet_list),val):\n",
        "    val1.append(studnet_list[x:x+val])\n",
        "  return val1\n",
        "val2=5\n",
        "print(funct1(studnet_list,val2))\n",
        "\n",
        "\n"
      ],
      "execution_count": 64,
      "outputs": [
        {
          "output_type": "stream",
          "name": "stdout",
          "text": [
            "[['pk0339', 'mv0299', 'nm0547', 'rrk0058', 'at0739'], ['hn0145', 'ttp0037', 'ds0761', 'msp0174', 'dy0091'], ['hc0439', 'pc0353', 'mn0426', 'ri0094', 'ss1995'], ['dd0420', 'vl0135', 'snd0097', 'vmb0067', 'pn0159'], ['bk0301', 'tv0119', 'yye0005', 'spk0057', 'rs0850'], ['sg0940', 'py0080', 'at0768', 'rak0120']]\n"
          ]
        }
      ]
    },
    {
      "cell_type": "markdown",
      "metadata": {
        "id": "wqhss-zAfp3R"
      },
      "source": [
        "(10) Write a Python program to find the duplicate elements in a given array of integers. Return -1 If there are no such elements. (4 points)"
      ]
    },
    {
      "cell_type": "code",
      "metadata": {
        "colab": {
          "base_uri": "https://localhost:8080/"
        },
        "id": "1t-B1GeRfp3R",
        "outputId": "5b06c6c0-13be-4d54-828a-14ae6408894a"
      },
      "source": [
        "import numpy as np\n",
        "arra1=np.array([1,2,3,4])\n",
        "count=[]\n",
        "for x in range(0,len(arra1)):\n",
        "  for y in range(x+1,len(arra1)):\n",
        "    if(arra1[x]==arra1[y]):\n",
        "     \n",
        "      count.append(arra1[y])\n",
        "  \n",
        "if len(count)==0:\n",
        "  print(-1)\n",
        "else:\n",
        "  print(\"duplicate values are:\",count)"
      ],
      "execution_count": 42,
      "outputs": [
        {
          "output_type": "stream",
          "name": "stdout",
          "text": [
            "-1\n"
          ]
        }
      ]
    },
    {
      "cell_type": "markdown",
      "metadata": {
        "id": "-txn-Cuwfp3R"
      },
      "source": [
        "(11) Write a Python program to select all the Sundays of a specified year. (4 extra points)"
      ]
    },
    {
      "cell_type": "code",
      "metadata": {
        "id": "Y46IARXLfp3S"
      },
      "source": [
        ""
      ],
      "execution_count": null,
      "outputs": []
    }
  ]
}